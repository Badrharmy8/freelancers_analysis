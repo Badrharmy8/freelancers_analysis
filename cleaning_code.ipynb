{
 "cells": [
  {
   "cell_type": "code",
   "execution_count": 98,
   "id": "619cde02",
   "metadata": {},
   "outputs": [
    {
     "data": {
      "text/html": [
       "<div>\n",
       "<style scoped>\n",
       "    .dataframe tbody tr th:only-of-type {\n",
       "        vertical-align: middle;\n",
       "    }\n",
       "\n",
       "    .dataframe tbody tr th {\n",
       "        vertical-align: top;\n",
       "    }\n",
       "\n",
       "    .dataframe thead th {\n",
       "        text-align: right;\n",
       "    }\n",
       "</style>\n",
       "<table border=\"1\" class=\"dataframe\">\n",
       "  <thead>\n",
       "    <tr style=\"text-align: right;\">\n",
       "      <th></th>\n",
       "      <th>freelancer_ID</th>\n",
       "      <th>name</th>\n",
       "      <th>gender</th>\n",
       "      <th>age</th>\n",
       "      <th>country</th>\n",
       "      <th>language</th>\n",
       "      <th>primary_skill</th>\n",
       "      <th>years_of_experience</th>\n",
       "      <th>hourly_rate (USD)</th>\n",
       "      <th>rating</th>\n",
       "      <th>is_active</th>\n",
       "      <th>client_satisfaction</th>\n",
       "    </tr>\n",
       "  </thead>\n",
       "  <tbody>\n",
       "    <tr>\n",
       "      <th>0</th>\n",
       "      <td>FL250001</td>\n",
       "      <td>Ms. Nicole Kidd</td>\n",
       "      <td>f</td>\n",
       "      <td>52.0</td>\n",
       "      <td>Italy</td>\n",
       "      <td>Italian</td>\n",
       "      <td>Blockchain Development</td>\n",
       "      <td>11.0</td>\n",
       "      <td>100</td>\n",
       "      <td>NaN</td>\n",
       "      <td>0</td>\n",
       "      <td>NaN</td>\n",
       "    </tr>\n",
       "    <tr>\n",
       "      <th>1</th>\n",
       "      <td>FL250002</td>\n",
       "      <td>Vanessa Garcia</td>\n",
       "      <td>FEMALE</td>\n",
       "      <td>52.0</td>\n",
       "      <td>Australia</td>\n",
       "      <td>English</td>\n",
       "      <td>Mobile Apps</td>\n",
       "      <td>34.0</td>\n",
       "      <td>USD 100</td>\n",
       "      <td>3.3</td>\n",
       "      <td>1</td>\n",
       "      <td>84%</td>\n",
       "    </tr>\n",
       "    <tr>\n",
       "      <th>2</th>\n",
       "      <td>FL250003</td>\n",
       "      <td>Juan Nelson</td>\n",
       "      <td>male</td>\n",
       "      <td>53.0</td>\n",
       "      <td>Germany</td>\n",
       "      <td>German</td>\n",
       "      <td>Graphic Design</td>\n",
       "      <td>31.0</td>\n",
       "      <td>50</td>\n",
       "      <td>0.0</td>\n",
       "      <td>N</td>\n",
       "      <td>71%</td>\n",
       "    </tr>\n",
       "    <tr>\n",
       "      <th>3</th>\n",
       "      <td>FL250004</td>\n",
       "      <td>Amanda Spencer</td>\n",
       "      <td>F</td>\n",
       "      <td>38.0</td>\n",
       "      <td>Australia</td>\n",
       "      <td>English</td>\n",
       "      <td>Web Development</td>\n",
       "      <td>4.0</td>\n",
       "      <td>$40</td>\n",
       "      <td>1.5</td>\n",
       "      <td>N</td>\n",
       "      <td>90%</td>\n",
       "    </tr>\n",
       "    <tr>\n",
       "      <th>4</th>\n",
       "      <td>FL250005</td>\n",
       "      <td>Lynn Curtis DDS</td>\n",
       "      <td>female</td>\n",
       "      <td>53.0</td>\n",
       "      <td>Germany</td>\n",
       "      <td>German</td>\n",
       "      <td>Web Development</td>\n",
       "      <td>27.0</td>\n",
       "      <td>30</td>\n",
       "      <td>4.8</td>\n",
       "      <td>0</td>\n",
       "      <td>83%</td>\n",
       "    </tr>\n",
       "  </tbody>\n",
       "</table>\n",
       "</div>"
      ],
      "text/plain": [
       "  freelancer_ID             name  gender   age    country language  \\\n",
       "0      FL250001  Ms. Nicole Kidd       f  52.0      Italy  Italian   \n",
       "1      FL250002   Vanessa Garcia  FEMALE  52.0  Australia  English   \n",
       "2      FL250003      Juan Nelson    male  53.0    Germany   German   \n",
       "3      FL250004   Amanda Spencer       F  38.0  Australia  English   \n",
       "4      FL250005  Lynn Curtis DDS  female  53.0    Germany   German   \n",
       "\n",
       "            primary_skill  years_of_experience hourly_rate (USD)  rating  \\\n",
       "0  Blockchain Development                 11.0               100     NaN   \n",
       "1             Mobile Apps                 34.0           USD 100     3.3   \n",
       "2          Graphic Design                 31.0                50     0.0   \n",
       "3         Web Development                  4.0               $40     1.5   \n",
       "4         Web Development                 27.0                30     4.8   \n",
       "\n",
       "  is_active client_satisfaction  \n",
       "0         0                 NaN  \n",
       "1         1                 84%  \n",
       "2         N                 71%  \n",
       "3         N                 90%  \n",
       "4         0                 83%  "
      ]
     },
     "execution_count": 98,
     "metadata": {},
     "output_type": "execute_result"
    }
   ],
   "source": [
    "import pandas as pd\n",
    "data = pd.read_csv('global_freelancers_raw.csv')\n",
    "data.head()"
   ]
  },
  {
   "cell_type": "code",
   "execution_count": 4,
   "id": "b068322d",
   "metadata": {},
   "outputs": [
    {
     "data": {
      "text/html": [
       "<div>\n",
       "<style scoped>\n",
       "    .dataframe tbody tr th:only-of-type {\n",
       "        vertical-align: middle;\n",
       "    }\n",
       "\n",
       "    .dataframe tbody tr th {\n",
       "        vertical-align: top;\n",
       "    }\n",
       "\n",
       "    .dataframe thead th {\n",
       "        text-align: right;\n",
       "    }\n",
       "</style>\n",
       "<table border=\"1\" class=\"dataframe\">\n",
       "  <thead>\n",
       "    <tr style=\"text-align: right;\">\n",
       "      <th></th>\n",
       "      <th>age</th>\n",
       "      <th>years_of_experience</th>\n",
       "      <th>rating</th>\n",
       "    </tr>\n",
       "  </thead>\n",
       "  <tbody>\n",
       "    <tr>\n",
       "      <th>count</th>\n",
       "      <td>970.000000</td>\n",
       "      <td>949.000000</td>\n",
       "      <td>899.000000</td>\n",
       "    </tr>\n",
       "    <tr>\n",
       "      <th>mean</th>\n",
       "      <td>40.509278</td>\n",
       "      <td>11.340358</td>\n",
       "      <td>2.512570</td>\n",
       "    </tr>\n",
       "    <tr>\n",
       "      <th>std</th>\n",
       "      <td>11.942605</td>\n",
       "      <td>9.680610</td>\n",
       "      <td>1.546599</td>\n",
       "    </tr>\n",
       "    <tr>\n",
       "      <th>min</th>\n",
       "      <td>20.000000</td>\n",
       "      <td>0.000000</td>\n",
       "      <td>0.000000</td>\n",
       "    </tr>\n",
       "    <tr>\n",
       "      <th>25%</th>\n",
       "      <td>31.000000</td>\n",
       "      <td>3.000000</td>\n",
       "      <td>1.400000</td>\n",
       "    </tr>\n",
       "    <tr>\n",
       "      <th>50%</th>\n",
       "      <td>41.000000</td>\n",
       "      <td>9.000000</td>\n",
       "      <td>2.600000</td>\n",
       "    </tr>\n",
       "    <tr>\n",
       "      <th>75%</th>\n",
       "      <td>51.000000</td>\n",
       "      <td>17.000000</td>\n",
       "      <td>3.800000</td>\n",
       "    </tr>\n",
       "    <tr>\n",
       "      <th>max</th>\n",
       "      <td>60.000000</td>\n",
       "      <td>41.000000</td>\n",
       "      <td>5.000000</td>\n",
       "    </tr>\n",
       "  </tbody>\n",
       "</table>\n",
       "</div>"
      ],
      "text/plain": [
       "              age  years_of_experience      rating\n",
       "count  970.000000           949.000000  899.000000\n",
       "mean    40.509278            11.340358    2.512570\n",
       "std     11.942605             9.680610    1.546599\n",
       "min     20.000000             0.000000    0.000000\n",
       "25%     31.000000             3.000000    1.400000\n",
       "50%     41.000000             9.000000    2.600000\n",
       "75%     51.000000            17.000000    3.800000\n",
       "max     60.000000            41.000000    5.000000"
      ]
     },
     "execution_count": 4,
     "metadata": {},
     "output_type": "execute_result"
    }
   ],
   "source": [
    "data.describe()"
   ]
  },
  {
   "cell_type": "code",
   "execution_count": 5,
   "id": "dd3d4685",
   "metadata": {},
   "outputs": [
    {
     "data": {
      "text/html": [
       "<div>\n",
       "<style scoped>\n",
       "    .dataframe tbody tr th:only-of-type {\n",
       "        vertical-align: middle;\n",
       "    }\n",
       "\n",
       "    .dataframe tbody tr th {\n",
       "        vertical-align: top;\n",
       "    }\n",
       "\n",
       "    .dataframe thead th {\n",
       "        text-align: right;\n",
       "    }\n",
       "</style>\n",
       "<table border=\"1\" class=\"dataframe\">\n",
       "  <thead>\n",
       "    <tr style=\"text-align: right;\">\n",
       "      <th></th>\n",
       "      <th>freelancer_ID</th>\n",
       "      <th>name</th>\n",
       "      <th>gender</th>\n",
       "      <th>country</th>\n",
       "      <th>language</th>\n",
       "      <th>primary_skill</th>\n",
       "      <th>hourly_rate (USD)</th>\n",
       "      <th>is_active</th>\n",
       "      <th>client_satisfaction</th>\n",
       "    </tr>\n",
       "  </thead>\n",
       "  <tbody>\n",
       "    <tr>\n",
       "      <th>count</th>\n",
       "      <td>1000</td>\n",
       "      <td>1000</td>\n",
       "      <td>1000</td>\n",
       "      <td>1000</td>\n",
       "      <td>1000</td>\n",
       "      <td>1000</td>\n",
       "      <td>906</td>\n",
       "      <td>911</td>\n",
       "      <td>824</td>\n",
       "    </tr>\n",
       "    <tr>\n",
       "      <th>unique</th>\n",
       "      <td>1000</td>\n",
       "      <td>992</td>\n",
       "      <td>10</td>\n",
       "      <td>21</td>\n",
       "      <td>16</td>\n",
       "      <td>10</td>\n",
       "      <td>18</td>\n",
       "      <td>8</td>\n",
       "      <td>81</td>\n",
       "    </tr>\n",
       "    <tr>\n",
       "      <th>top</th>\n",
       "      <td>FL250001</td>\n",
       "      <td>Mary Brown</td>\n",
       "      <td>FEMALE</td>\n",
       "      <td>South Korea</td>\n",
       "      <td>English</td>\n",
       "      <td>DevOps</td>\n",
       "      <td>40</td>\n",
       "      <td>1</td>\n",
       "      <td>64%</td>\n",
       "    </tr>\n",
       "    <tr>\n",
       "      <th>freq</th>\n",
       "      <td>1</td>\n",
       "      <td>2</td>\n",
       "      <td>115</td>\n",
       "      <td>68</td>\n",
       "      <td>215</td>\n",
       "      <td>112</td>\n",
       "      <td>94</td>\n",
       "      <td>190</td>\n",
       "      <td>23</td>\n",
       "    </tr>\n",
       "  </tbody>\n",
       "</table>\n",
       "</div>"
      ],
      "text/plain": [
       "       freelancer_ID        name  gender      country language primary_skill  \\\n",
       "count           1000        1000    1000         1000     1000          1000   \n",
       "unique          1000         992      10           21       16            10   \n",
       "top         FL250001  Mary Brown  FEMALE  South Korea  English        DevOps   \n",
       "freq               1           2     115           68      215           112   \n",
       "\n",
       "       hourly_rate (USD) is_active client_satisfaction  \n",
       "count                906       911                 824  \n",
       "unique                18         8                  81  \n",
       "top                   40         1                 64%  \n",
       "freq                  94       190                  23  "
      ]
     },
     "execution_count": 5,
     "metadata": {},
     "output_type": "execute_result"
    }
   ],
   "source": [
    "data.describe(include = object)"
   ]
  },
  {
   "cell_type": "code",
   "execution_count": 6,
   "id": "846fe2ee",
   "metadata": {},
   "outputs": [
    {
     "data": {
      "text/plain": [
       "(1000, 12)"
      ]
     },
     "execution_count": 6,
     "metadata": {},
     "output_type": "execute_result"
    }
   ],
   "source": [
    "data.shape"
   ]
  },
  {
   "cell_type": "code",
   "execution_count": 84,
   "id": "6944b04a",
   "metadata": {},
   "outputs": [
    {
     "data": {
      "text/plain": [
       "freelancer_ID            0\n",
       "name                     0\n",
       "gender                   0\n",
       "age                     30\n",
       "country                  0\n",
       "language                 0\n",
       "primary_skill            0\n",
       "years_of_experience     51\n",
       "hourly_rate (USD)       94\n",
       "rating                 101\n",
       "is_active               89\n",
       "client_satisfaction    176\n",
       "dtype: int64"
      ]
     },
     "execution_count": 84,
     "metadata": {},
     "output_type": "execute_result"
    }
   ],
   "source": [
    "data.isna().sum()"
   ]
  },
  {
   "cell_type": "code",
   "execution_count": 8,
   "id": "828816a7",
   "metadata": {},
   "outputs": [
    {
     "data": {
      "text/plain": [
       "1000"
      ]
     },
     "execution_count": 8,
     "metadata": {},
     "output_type": "execute_result"
    }
   ],
   "source": [
    "data.freelancer_ID.nunique()"
   ]
  },
  {
   "cell_type": "code",
   "execution_count": 9,
   "id": "7441da25",
   "metadata": {},
   "outputs": [
    {
     "data": {
      "text/plain": [
       "10"
      ]
     },
     "execution_count": 9,
     "metadata": {},
     "output_type": "execute_result"
    }
   ],
   "source": [
    "data.gender.nunique()"
   ]
  },
  {
   "cell_type": "code",
   "execution_count": 10,
   "id": "e6e47ad9",
   "metadata": {},
   "outputs": [
    {
     "data": {
      "text/plain": [
       "gender\n",
       "FEMALE    115\n",
       "M         106\n",
       "f         103\n",
       "Male      103\n",
       "MALE      102\n",
       "male      100\n",
       "m          99\n",
       "Female     96\n",
       "F          90\n",
       "female     86\n",
       "Name: count, dtype: int64"
      ]
     },
     "execution_count": 10,
     "metadata": {},
     "output_type": "execute_result"
    }
   ],
   "source": [
    "data.gender.value_counts()"
   ]
  },
  {
   "cell_type": "code",
   "execution_count": 99,
   "id": "9fe7cebe",
   "metadata": {},
   "outputs": [
    {
     "name": "stderr",
     "output_type": "stream",
     "text": [
      "C:\\Users\\LENOVO\\AppData\\Local\\Temp\\ipykernel_14616\\3387032921.py:1: FutureWarning: A value is trying to be set on a copy of a DataFrame or Series through chained assignment using an inplace method.\n",
      "The behavior will change in pandas 3.0. This inplace method will never work because the intermediate object on which we are setting values always behaves as a copy.\n",
      "\n",
      "For example, when doing 'df[col].method(value, inplace=True)', try using 'df.method({col: value}, inplace=True)' or df[col] = df[col].method(value) instead, to perform the operation inplace on the original object.\n",
      "\n",
      "\n",
      "  data.gender.replace(['FEMALE' , 'F' , 'f' , 'female'] , 'Female' , inplace = True)\n"
     ]
    }
   ],
   "source": [
    "data.gender.replace(['FEMALE' , 'F' , 'f' , 'female'] , 'Female' , inplace = True)\n",
    "data.gender.replace(['MALE' , 'M' , 'male' , 'm'] ,'Male' , inplace = True)"
   ]
  },
  {
   "cell_type": "code",
   "execution_count": 100,
   "id": "b805734d",
   "metadata": {},
   "outputs": [
    {
     "data": {
      "text/plain": [
       "gender\n",
       "Male      510\n",
       "Female    490\n",
       "Name: count, dtype: int64"
      ]
     },
     "execution_count": 100,
     "metadata": {},
     "output_type": "execute_result"
    }
   ],
   "source": [
    "data.gender.value_counts()"
   ]
  },
  {
   "cell_type": "code",
   "execution_count": 16,
   "id": "46603945",
   "metadata": {},
   "outputs": [
    {
     "data": {
      "text/plain": [
       "41"
      ]
     },
     "execution_count": 16,
     "metadata": {},
     "output_type": "execute_result"
    }
   ],
   "source": [
    "data.age.nunique()"
   ]
  },
  {
   "cell_type": "code",
   "execution_count": 43,
   "id": "2244a82f",
   "metadata": {},
   "outputs": [
    {
     "data": {
      "text/plain": [
       "0"
      ]
     },
     "execution_count": 43,
     "metadata": {},
     "output_type": "execute_result"
    }
   ],
   "source": [
    "data.age.isna().sum()"
   ]
  },
  {
   "cell_type": "code",
   "execution_count": 101,
   "id": "414da1cb",
   "metadata": {},
   "outputs": [],
   "source": [
    "data.loc[data['age'].isna(), 'age'] = data.groupby('primary_skill')['age'].transform('mean')[data['age'].isna()]\n"
   ]
  },
  {
   "cell_type": "code",
   "execution_count": 102,
   "id": "7ade616e",
   "metadata": {},
   "outputs": [
    {
     "data": {
      "text/plain": [
       "0"
      ]
     },
     "execution_count": 102,
     "metadata": {},
     "output_type": "execute_result"
    }
   ],
   "source": [
    "data.age.isna().sum()"
   ]
  },
  {
   "cell_type": "code",
   "execution_count": 103,
   "id": "c7faabc7",
   "metadata": {},
   "outputs": [],
   "source": [
    "data.loc[data['years_of_experience'].isna() , 'years_of_experience'] = data.groupby('primary_skill')['years_of_experience'].transform('mean')[data['years_of_experience'].isna()]"
   ]
  },
  {
   "cell_type": "code",
   "execution_count": 104,
   "id": "22a51a0a",
   "metadata": {},
   "outputs": [
    {
     "data": {
      "text/plain": [
       "0"
      ]
     },
     "execution_count": 104,
     "metadata": {},
     "output_type": "execute_result"
    }
   ],
   "source": [
    "data.years_of_experience.isna().sum()"
   ]
  },
  {
   "cell_type": "code",
   "execution_count": 49,
   "id": "ca236143",
   "metadata": {},
   "outputs": [
    {
     "data": {
      "text/plain": [
       "age\n",
       "21.000000    34\n",
       "36.000000    30\n",
       "47.000000    29\n",
       "56.000000    29\n",
       "52.000000    28\n",
       "50.000000    28\n",
       "34.000000    28\n",
       "31.000000    28\n",
       "57.000000    27\n",
       "22.000000    27\n",
       "48.000000    27\n",
       "51.000000    27\n",
       "46.000000    26\n",
       "59.000000    26\n",
       "53.000000    26\n",
       "41.000000    25\n",
       "58.000000    25\n",
       "20.000000    25\n",
       "54.000000    24\n",
       "37.000000    24\n",
       "33.000000    24\n",
       "42.000000    24\n",
       "38.000000    24\n",
       "35.000000    24\n",
       "26.000000    22\n",
       "45.000000    22\n",
       "49.000000    21\n",
       "55.000000    21\n",
       "32.000000    21\n",
       "60.000000    21\n",
       "24.000000    20\n",
       "25.000000    20\n",
       "29.000000    20\n",
       "44.000000    20\n",
       "43.000000    20\n",
       "40.000000    20\n",
       "27.000000    19\n",
       "23.000000    18\n",
       "39.000000    17\n",
       "30.000000    16\n",
       "28.000000    13\n",
       "38.309524     5\n",
       "39.234043     4\n",
       "43.553191     3\n",
       "40.319149     2\n",
       "39.906977     2\n",
       "40.581395     2\n",
       "40.952381     2\n",
       "40.395833     1\n",
       "41.466667     1\n",
       "41.022727     1\n",
       "37.843137     1\n",
       "41.402985     1\n",
       "40.822222     1\n",
       "39.944444     1\n",
       "41.891304     1\n",
       "42.097561     1\n",
       "40.204082     1\n",
       "Name: count, dtype: int64"
      ]
     },
     "execution_count": 49,
     "metadata": {},
     "output_type": "execute_result"
    }
   ],
   "source": [
    "data.age.value_counts()"
   ]
  },
  {
   "cell_type": "code",
   "execution_count": 51,
   "id": "7fa3c81b",
   "metadata": {},
   "outputs": [
    {
     "data": {
      "text/plain": [
       "Index(['freelancer_ID', 'name', 'gender', 'age', 'country', 'language',\n",
       "       'primary_skill', 'years_of_experience', 'hourly_rate (USD)', 'rating',\n",
       "       'is_active', 'client_satisfaction'],\n",
       "      dtype='object')"
      ]
     },
     "execution_count": 51,
     "metadata": {},
     "output_type": "execute_result"
    }
   ],
   "source": [
    "data.columns"
   ]
  },
  {
   "cell_type": "code",
   "execution_count": 53,
   "id": "5c1b9cb0",
   "metadata": {},
   "outputs": [
    {
     "data": {
      "text/plain": [
       "hourly_rate (USD)\n",
       "40         94\n",
       "100        80\n",
       "50         78\n",
       "75         77\n",
       "30         70\n",
       "20         66\n",
       "$20        43\n",
       "$30        40\n",
       "USD 30     40\n",
       "$100       40\n",
       "$40        39\n",
       "$50        39\n",
       "USD 40     38\n",
       "USD 100    37\n",
       "USD 50     35\n",
       "USD 20     33\n",
       "USD 75     31\n",
       "$75        26\n",
       "Name: count, dtype: int64"
      ]
     },
     "execution_count": 53,
     "metadata": {},
     "output_type": "execute_result"
    }
   ],
   "source": [
    "data.loc[: , 'hourly_rate (USD)'].value_counts()"
   ]
  },
  {
   "cell_type": "code",
   "execution_count": 107,
   "id": "a0e5f257",
   "metadata": {},
   "outputs": [
    {
     "data": {
      "text/plain": [
       "0       100\n",
       "1       100\n",
       "2        50\n",
       "3        40\n",
       "4        30\n",
       "       ... \n",
       "995     100\n",
       "996      40\n",
       "997      75\n",
       "998     100\n",
       "999      20\n",
       "Name: hourly_rate (USD), Length: 1000, dtype: object"
      ]
     },
     "execution_count": 107,
     "metadata": {},
     "output_type": "execute_result"
    }
   ],
   "source": [
    "data['hourly_rate (USD)'] \n"
   ]
  },
  {
   "cell_type": "code",
   "execution_count": 114,
   "id": "0b0692a0",
   "metadata": {},
   "outputs": [],
   "source": [
    "data['hourly_rate (USD)']=data['hourly_rate (USD)'].astype('float')"
   ]
  },
  {
   "cell_type": "code",
   "execution_count": 106,
   "id": "7036a77a",
   "metadata": {},
   "outputs": [],
   "source": [
    "data['hourly_rate (USD)'] = data['hourly_rate (USD)'].replace([r'\\$', 'USD'] , '' , regex = True)"
   ]
  },
  {
   "cell_type": "code",
   "execution_count": 116,
   "id": "2bb85399",
   "metadata": {},
   "outputs": [
    {
     "data": {
      "text/plain": [
       "0"
      ]
     },
     "execution_count": 116,
     "metadata": {},
     "output_type": "execute_result"
    }
   ],
   "source": [
    "data['hourly_rate (USD)'].isna().sum()"
   ]
  },
  {
   "cell_type": "code",
   "execution_count": 115,
   "id": "fab025c2",
   "metadata": {},
   "outputs": [],
   "source": [
    "data.loc[data['hourly_rate (USD)'].isna() , 'hourly_rate (USD)'] = data.groupby('primary_skill')['hourly_rate (USD)'].transform('mean')[data['hourly_rate (USD)'].isna()]"
   ]
  },
  {
   "cell_type": "code",
   "execution_count": 117,
   "id": "745ae6b4",
   "metadata": {},
   "outputs": [],
   "source": [
    "data.loc[data['rating'].isna() , 'rating'] = data.groupby('primary_skill')['rating'].transform('mean')[data['rating'].isna()]"
   ]
  },
  {
   "cell_type": "code",
   "execution_count": 118,
   "id": "8386887c",
   "metadata": {},
   "outputs": [
    {
     "data": {
      "text/plain": [
       "0"
      ]
     },
     "execution_count": 118,
     "metadata": {},
     "output_type": "execute_result"
    }
   ],
   "source": [
    "data.rating.isna().sum()"
   ]
  },
  {
   "cell_type": "code",
   "execution_count": 119,
   "id": "5ea9406b",
   "metadata": {},
   "outputs": [
    {
     "data": {
      "text/plain": [
       "89"
      ]
     },
     "execution_count": 119,
     "metadata": {},
     "output_type": "execute_result"
    }
   ],
   "source": [
    "data.is_active.isna().sum()"
   ]
  },
  {
   "cell_type": "code",
   "execution_count": 124,
   "id": "22058f8d",
   "metadata": {},
   "outputs": [],
   "source": [
    "data.is_active.replace(['N' , 'False' , 'no'] , 0 , inplace = True)\n",
    "data.is_active.replace(['Y' , 'True' , 'yes'] , 1 , inplace = True)"
   ]
  },
  {
   "cell_type": "code",
   "execution_count": 127,
   "id": "70fab343",
   "metadata": {},
   "outputs": [],
   "source": [
    "data.is_active.replace('0' , 0 , inplace = True)\n",
    "data.is_active.replace('1' , 1 , inplace = True)"
   ]
  },
  {
   "cell_type": "code",
   "execution_count": 128,
   "id": "7454c5a9",
   "metadata": {},
   "outputs": [
    {
     "data": {
      "text/plain": [
       "is_active\n",
       "0.0    465\n",
       "1.0    446\n",
       "Name: count, dtype: int64"
      ]
     },
     "execution_count": 128,
     "metadata": {},
     "output_type": "execute_result"
    }
   ],
   "source": [
    "data.is_active.value_counts()"
   ]
  },
  {
   "cell_type": "code",
   "execution_count": 130,
   "id": "39a7d0d5",
   "metadata": {},
   "outputs": [],
   "source": [
    "data.loc[data['is_active'].isna() , 'is_active'] = data.groupby('country')['is_active'].transform('mean')[data['is_active'].isna()]"
   ]
  },
  {
   "cell_type": "code",
   "execution_count": 134,
   "id": "9365adb2",
   "metadata": {},
   "outputs": [
    {
     "data": {
      "text/plain": [
       "0"
      ]
     },
     "execution_count": 134,
     "metadata": {},
     "output_type": "execute_result"
    }
   ],
   "source": [
    "data.is_active.isna().sum()"
   ]
  },
  {
   "cell_type": "code",
   "execution_count": 138,
   "id": "0080054f",
   "metadata": {},
   "outputs": [],
   "source": [
    "data.client_satisfaction =data.client_satisfaction.astype('float')"
   ]
  },
  {
   "cell_type": "code",
   "execution_count": 137,
   "id": "ea40a08a",
   "metadata": {},
   "outputs": [],
   "source": [
    "data.client_satisfaction = data.client_satisfaction.replace(r'\\%' , '' , regex=True)"
   ]
  },
  {
   "cell_type": "code",
   "execution_count": 139,
   "id": "e588ee50",
   "metadata": {},
   "outputs": [
    {
     "data": {
      "text/plain": [
       "79.26941747572816"
      ]
     },
     "execution_count": 139,
     "metadata": {},
     "output_type": "execute_result"
    }
   ],
   "source": [
    "data.client_satisfaction.mean()"
   ]
  },
  {
   "cell_type": "code",
   "execution_count": 141,
   "id": "862e8884",
   "metadata": {},
   "outputs": [],
   "source": [
    "data.loc[data['client_satisfaction'].isna() , 'client_satisfaction'] = data.groupby('primary_skill')['client_satisfaction'].transform('mean')[data['client_satisfaction'].isna()]"
   ]
  },
  {
   "cell_type": "code",
   "execution_count": 142,
   "id": "347e290a",
   "metadata": {},
   "outputs": [
    {
     "data": {
      "text/plain": [
       "0"
      ]
     },
     "execution_count": 142,
     "metadata": {},
     "output_type": "execute_result"
    }
   ],
   "source": [
    "data.client_satisfaction.isna().sum()"
   ]
  },
  {
   "cell_type": "code",
   "execution_count": null,
   "id": "642393ab",
   "metadata": {},
   "outputs": [],
   "source": [
    "import openpyxl"
   ]
  },
  {
   "cell_type": "code",
   "execution_count": 150,
   "id": "fc5ebc6a",
   "metadata": {},
   "outputs": [],
   "source": [
    "data.age = data.age.astype('int')"
   ]
  },
  {
   "cell_type": "code",
   "execution_count": 151,
   "id": "e0ad6337",
   "metadata": {},
   "outputs": [],
   "source": [
    "data['hourly_rate (USD)'] = data['hourly_rate (USD)'].astype('int')"
   ]
  },
  {
   "cell_type": "code",
   "execution_count": 152,
   "id": "6c1cf645",
   "metadata": {},
   "outputs": [],
   "source": [
    "data.rating = data.rating.astype('int')"
   ]
  },
  {
   "cell_type": "code",
   "execution_count": 153,
   "id": "1238b610",
   "metadata": {},
   "outputs": [],
   "source": [
    "data.is_active = data.is_active.astype('int')"
   ]
  },
  {
   "cell_type": "code",
   "execution_count": 154,
   "id": "00e4da23",
   "metadata": {},
   "outputs": [],
   "source": [
    "data.client_satisfaction = data.client_satisfaction.astype('int')"
   ]
  },
  {
   "cell_type": "code",
   "execution_count": 157,
   "id": "473d06ad",
   "metadata": {},
   "outputs": [],
   "source": [
    "data.years_of_experience = data.years_of_experience.astype('int')"
   ]
  },
  {
   "cell_type": "code",
   "execution_count": 158,
   "id": "5e41afb9",
   "metadata": {},
   "outputs": [],
   "source": [
    "data.to_excel('cleaned_data.xlsx' , index = False)"
   ]
  }
 ],
 "metadata": {
  "kernelspec": {
   "display_name": "base",
   "language": "python",
   "name": "python3"
  },
  "language_info": {
   "codemirror_mode": {
    "name": "ipython",
    "version": 3
   },
   "file_extension": ".py",
   "mimetype": "text/x-python",
   "name": "python",
   "nbconvert_exporter": "python",
   "pygments_lexer": "ipython3",
   "version": "3.12.7"
  }
 },
 "nbformat": 4,
 "nbformat_minor": 5
}
